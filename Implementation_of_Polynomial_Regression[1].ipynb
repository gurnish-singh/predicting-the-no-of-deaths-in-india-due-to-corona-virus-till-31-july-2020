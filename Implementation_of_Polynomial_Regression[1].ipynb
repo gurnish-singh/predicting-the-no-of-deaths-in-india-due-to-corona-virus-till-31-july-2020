{
  "nbformat": 4,
  "nbformat_minor": 0,
  "metadata": {
    "kernelspec": {
      "display_name": "Python 3",
      "language": "python",
      "name": "python3"
    },
    "language_info": {
      "codemirror_mode": {
        "name": "ipython",
        "version": 3
      },
      "file_extension": ".py",
      "mimetype": "text/x-python",
      "name": "python",
      "nbconvert_exporter": "python",
      "pygments_lexer": "ipython3",
      "version": "3.6.8"
    },
    "colab": {
      "name": "Implementation_of_Polynomial_Regression[1].ipynb",
      "provenance": [],
      "collapsed_sections": []
    }
  },
  "cells": [
    {
      "cell_type": "markdown",
      "metadata": {
        "id": "Dx3dEhV0IOmQ",
        "colab_type": "text"
      },
      "source": [
        "#### Implementation of Polynomial Regression"
      ]
    },
    {
      "cell_type": "code",
      "metadata": {
        "id": "zvIceyPCIOmR",
        "colab_type": "code",
        "outputId": "19d8c8cb-1a53-4f37-df38-cbf53e8a6932",
        "colab": {
          "base_uri": "https://localhost:8080/",
          "height": 34
        }
      },
      "source": [
        "# Importing the libraries \n",
        "import numpy as np \n",
        "import matplotlib.pyplot as plt \n",
        "import pandas as pd \n",
        "  \n",
        "# Importing the dataset \n",
        "datas = pd.read_csv('owid-covid-data new.csv') \n",
        "datas \n",
        "print ('data starts from 13 march 2020')"
      ],
      "execution_count": 12,
      "outputs": [
        {
          "output_type": "stream",
          "text": [
            "data starts from 13 march 2020\n"
          ],
          "name": "stdout"
        }
      ]
    },
    {
      "cell_type": "markdown",
      "metadata": {
        "id": "foGQyllFIOmU",
        "colab_type": "text"
      },
      "source": [
        "Step 2: Dividing the dataset into 2 components\n",
        "\n",
        "Divide dataset into two components that is X and y.\n",
        "X will contain the Column between 1 and 2. y will contain the 2 column."
      ]
    },
    {
      "cell_type": "code",
      "metadata": {
        "id": "iyzfRBKFIOmV",
        "colab_type": "code",
        "colab": {}
      },
      "source": [
        "X = datas.iloc[:,1:2].values \n",
        "y = datas.iloc[:,2].values \n"
      ],
      "execution_count": 0,
      "outputs": []
    },
    {
      "cell_type": "markdown",
      "metadata": {
        "id": "SRS3Qlu_IOmX",
        "colab_type": "text"
      },
      "source": [
        "Step 3: Fitting Linear Regression to the dataset\n",
        "Fitting the linear Regression model On two components."
      ]
    },
    {
      "cell_type": "code",
      "metadata": {
        "id": "Mm0lEyUhIOmY",
        "colab_type": "code",
        "outputId": "6fe9a895-5b73-4c10-eed0-17422472263c",
        "colab": {
          "base_uri": "https://localhost:8080/",
          "height": 34
        }
      },
      "source": [
        "# Fitting Linear Regression to the dataset \n",
        "from sklearn.linear_model import LinearRegression \n",
        "lin = LinearRegression() \n",
        "lin.fit(X, y) \n"
      ],
      "execution_count": 14,
      "outputs": [
        {
          "output_type": "execute_result",
          "data": {
            "text/plain": [
              "LinearRegression(copy_X=True, fit_intercept=True, n_jobs=None, normalize=False)"
            ]
          },
          "metadata": {
            "tags": []
          },
          "execution_count": 14
        }
      ]
    },
    {
      "cell_type": "markdown",
      "metadata": {
        "id": "UjScWc53IOma",
        "colab_type": "text"
      },
      "source": [
        "Step 4: Fitting Polynomial Regression to the dataset\n",
        "Fitting the Polynomial Regression model on two components X and y."
      ]
    },
    {
      "cell_type": "code",
      "metadata": {
        "id": "RlOZmMjaIOmb",
        "colab_type": "code",
        "outputId": "45ea36e0-bcc3-48be-9bc7-fb1666ac9fe5",
        "colab": {
          "base_uri": "https://localhost:8080/",
          "height": 34
        }
      },
      "source": [
        "# Fitting Polynomial Regression to the dataset \n",
        "from sklearn.preprocessing import PolynomialFeatures \n",
        "\n",
        "poly = PolynomialFeatures(degree = 4) \n",
        "X_poly = poly.fit_transform(X) \n",
        "poly.fit(X_poly, y) \n",
        "lin2 = LinearRegression() \n",
        "lin2.fit(X_poly, y) "
      ],
      "execution_count": 20,
      "outputs": [
        {
          "output_type": "execute_result",
          "data": {
            "text/plain": [
              "LinearRegression(copy_X=True, fit_intercept=True, n_jobs=None, normalize=False)"
            ]
          },
          "metadata": {
            "tags": []
          },
          "execution_count": 20
        }
      ]
    },
    {
      "cell_type": "markdown",
      "metadata": {
        "id": "augiwXXRIOmd",
        "colab_type": "text"
      },
      "source": [
        "Step 5: In this step we are Visualising the Linear Regression results using scatter plot."
      ]
    },
    {
      "cell_type": "code",
      "metadata": {
        "id": "l5-GsEHdIOme",
        "colab_type": "code",
        "outputId": "42bd84fc-c123-4e17-f18a-82c759b714b4",
        "colab": {
          "base_uri": "https://localhost:8080/",
          "height": 295
        }
      },
      "source": [
        "# Visualising the Linear Regression results \n",
        "plt.scatter(X, y, color = 'blue') \n",
        "\n",
        "plt.plot(X, lin.predict(X), color = 'red') \n",
        "plt.title('Linear Regression') \n",
        "plt.xlabel('days') \n",
        "plt.ylabel('deaths') \n",
        "\n",
        "plt.show() "
      ],
      "execution_count": 21,
      "outputs": [
        {
          "output_type": "display_data",
          "data": {
            "image/png": "[encoded data removed]",
            "text/plain": [
              "<Figure size 432x288 with 1 Axes>"
            ]
          },
          "metadata": {
            "tags": [],
            "needs_background": "light"
          }
        }
      ]
    },
    {
      "cell_type": "markdown",
      "metadata": {
        "id": "nZ7kNBdSIOmg",
        "colab_type": "text"
      },
      "source": [
        "Step 6: Visualising the Polynomial Regression results using scatter plot."
      ]
    },
    {
      "cell_type": "code",
      "metadata": {
        "id": "_ZV-Bi7_IOmh",
        "colab_type": "code",
        "outputId": "8ce5d28a-4e98-43df-fa8c-20bc53c493d9",
        "colab": {
          "base_uri": "https://localhost:8080/",
          "height": 295
        }
      },
      "source": [
        "# Visualising the Polynomial Regression results \n",
        "plt.scatter(X, y, color = 'blue') \n",
        "  \n",
        "plt.plot(X, lin2.predict(poly.fit_transform(X)), color = 'red') \n",
        "plt.title('Polynomial Regression') \n",
        "plt.xlabel('days') \n",
        "plt.ylabel('deaths') \n",
        "  \n",
        "plt.show() \n"
      ],
      "execution_count": 22,
      "outputs": [
        {
          "output_type": "display_data",
          "data": {
            "image/png": "[encoded data removed]",
            "text/plain": [
              "<Figure size 432x288 with 1 Axes>"
            ]
          },
          "metadata": {
            "tags": [],
            "needs_background": "light"
          }
        }
      ]
    },
    {
      "cell_type": "markdown",
      "metadata": {
        "id": "3ajWI0h1IOml",
        "colab_type": "text"
      },
      "source": [
        "Step 7: Predicting new result with both Linear and Polynomial Regression."
      ]
    },
    {
      "cell_type": "code",
      "metadata": {
        "id": "OQGuqwMDIOml",
        "colab_type": "code",
        "outputId": "48e13160-ab57-4496-80d7-b8826655a068",
        "colab": {
          "base_uri": "https://localhost:8080/",
          "height": 34
        }
      },
      "source": [
        "# Predicting a new result with Linear Regression \n",
        "lin.predict([[141]]) "
      ],
      "execution_count": 23,
      "outputs": [
        {
          "output_type": "execute_result",
          "data": {
            "text/plain": [
              "array([4587.40279378])"
            ]
          },
          "metadata": {
            "tags": []
          },
          "execution_count": 23
        }
      ]
    },
    {
      "cell_type": "code",
      "metadata": {
        "id": "0GxlThLwIOmo",
        "colab_type": "code",
        "outputId": "83a63180-7596-437c-df64-b5792568d05f",
        "colab": {
          "base_uri": "https://localhost:8080/",
          "height": 34
        }
      },
      "source": [
        "# Predicting a new result with Polynomial Regression \n",
        "lin2.predict(poly.fit_transform([[141]])) "
      ],
      "execution_count": 24,
      "outputs": [
        {
          "output_type": "execute_result",
          "data": {
            "text/plain": [
              "array([52205.33483918])"
            ]
          },
          "metadata": {
            "tags": []
          },
          "execution_count": 24
        }
      ]
    },
    {
      "cell_type": "code",
      "metadata": {
        "id": "t2SgRrsFIOmq",
        "colab_type": "code",
        "colab": {}
      },
      "source": [
        ""
      ],
      "execution_count": 0,
      "outputs": []
    }
  ]
}